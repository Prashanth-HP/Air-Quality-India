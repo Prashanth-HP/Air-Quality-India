{
  "cells": [
    {
      "cell_type": "markdown",
      "metadata": {
        "id": "Wg5yNvDxOSSo"
      },
      "source": [
        "\n",
        "# Collected Dataset from **Kaggal**\n"
      ]
    },
    {
      "cell_type": "code",
      "execution_count": 11,
      "metadata": {
        "id": "IsufbZLhObI5"
      },
      "outputs": [],
      "source": [
        "import pandas as pd"
      ]
    },
    {
      "cell_type": "code",
      "execution_count": 12,
      "metadata": {
        "colab": {
          "base_uri": "https://localhost:8080/",
          "height": 312
        },
        "id": "O6EIrLqBOe8g",
        "outputId": "ab0d7925-62f8-485c-f902-e35235fe2e3b"
      },
      "outputs": [
        {
          "data": {
            "text/html": [
              "<div>\n",
              "<style scoped>\n",
              "    .dataframe tbody tr th:only-of-type {\n",
              "        vertical-align: middle;\n",
              "    }\n",
              "\n",
              "    .dataframe tbody tr th {\n",
              "        vertical-align: top;\n",
              "    }\n",
              "\n",
              "    .dataframe thead th {\n",
              "        text-align: right;\n",
              "    }\n",
              "</style>\n",
              "<table border=\"1\" class=\"dataframe\">\n",
              "  <thead>\n",
              "    <tr style=\"text-align: right;\">\n",
              "      <th></th>\n",
              "      <th>City</th>\n",
              "      <th>Date</th>\n",
              "      <th>PM2.5</th>\n",
              "      <th>PM10</th>\n",
              "      <th>NO</th>\n",
              "      <th>NO2</th>\n",
              "      <th>NOx</th>\n",
              "      <th>NH3</th>\n",
              "      <th>CO</th>\n",
              "      <th>SO2</th>\n",
              "    </tr>\n",
              "  </thead>\n",
              "  <tbody>\n",
              "    <tr>\n",
              "      <th>0</th>\n",
              "      <td>Ahmedabad</td>\n",
              "      <td>1/4/2015</td>\n",
              "      <td>36.43</td>\n",
              "      <td>58.88</td>\n",
              "      <td>1.70</td>\n",
              "      <td>18.48</td>\n",
              "      <td>17.97</td>\n",
              "      <td>11.86</td>\n",
              "      <td>1.70</td>\n",
              "      <td>18.59</td>\n",
              "    </tr>\n",
              "    <tr>\n",
              "      <th>1</th>\n",
              "      <td>Ahmedabad</td>\n",
              "      <td>1/10/2015</td>\n",
              "      <td>36.43</td>\n",
              "      <td>58.88</td>\n",
              "      <td>7.50</td>\n",
              "      <td>7.04</td>\n",
              "      <td>17.79</td>\n",
              "      <td>11.86</td>\n",
              "      <td>0.71</td>\n",
              "      <td>8.29</td>\n",
              "    </tr>\n",
              "    <tr>\n",
              "      <th>2</th>\n",
              "      <td>Ahmedabad</td>\n",
              "      <td>7/16/2015</td>\n",
              "      <td>65.37</td>\n",
              "      <td>58.88</td>\n",
              "      <td>0.64</td>\n",
              "      <td>8.07</td>\n",
              "      <td>8.57</td>\n",
              "      <td>11.86</td>\n",
              "      <td>0.64</td>\n",
              "      <td>16.31</td>\n",
              "    </tr>\n",
              "    <tr>\n",
              "      <th>3</th>\n",
              "      <td>Ahmedabad</td>\n",
              "      <td>7/17/2015</td>\n",
              "      <td>56.28</td>\n",
              "      <td>58.88</td>\n",
              "      <td>0.60</td>\n",
              "      <td>8.02</td>\n",
              "      <td>8.51</td>\n",
              "      <td>11.86</td>\n",
              "      <td>0.60</td>\n",
              "      <td>18.93</td>\n",
              "    </tr>\n",
              "    <tr>\n",
              "      <th>4</th>\n",
              "      <td>Ahmedabad</td>\n",
              "      <td>7/18/2015</td>\n",
              "      <td>48.17</td>\n",
              "      <td>58.88</td>\n",
              "      <td>0.65</td>\n",
              "      <td>8.00</td>\n",
              "      <td>8.55</td>\n",
              "      <td>11.86</td>\n",
              "      <td>0.65</td>\n",
              "      <td>18.99</td>\n",
              "    </tr>\n",
              "  </tbody>\n",
              "</table>\n",
              "</div>"
            ],
            "text/plain": [
              "        City       Date  PM2.5   PM10    NO    NO2    NOx    NH3    CO    SO2\n",
              "0  Ahmedabad   1/4/2015  36.43  58.88  1.70  18.48  17.97  11.86  1.70  18.59\n",
              "1  Ahmedabad  1/10/2015  36.43  58.88  7.50   7.04  17.79  11.86  0.71   8.29\n",
              "2  Ahmedabad  7/16/2015  65.37  58.88  0.64   8.07   8.57  11.86  0.64  16.31\n",
              "3  Ahmedabad  7/17/2015  56.28  58.88  0.60   8.02   8.51  11.86  0.60  18.93\n",
              "4  Ahmedabad  7/18/2015  48.17  58.88  0.65   8.00   8.55  11.86  0.65  18.99"
            ]
          },
          "execution_count": 12,
          "metadata": {},
          "output_type": "execute_result"
        }
      ],
      "source": [
        "df = pd.read_csv(\"Dataset.csv\")\n",
        "df.head()"
      ]
    },
    {
      "cell_type": "code",
      "execution_count": 13,
      "metadata": {
        "colab": {
          "base_uri": "https://localhost:8080/"
        },
        "id": "fuIMoc-ZOt7R",
        "outputId": "e968fc0d-667e-4e4b-aeb6-a338d94144a7"
      },
      "outputs": [
        {
          "name": "stdout",
          "output_type": "stream",
          "text": [
            "<class 'pandas.core.frame.DataFrame'>\n",
            "RangeIndex: 14306 entries, 0 to 14305\n",
            "Data columns (total 10 columns):\n",
            " #   Column  Non-Null Count  Dtype  \n",
            "---  ------  --------------  -----  \n",
            " 0   City    14306 non-null  object \n",
            " 1   Date    14306 non-null  object \n",
            " 2   PM2.5   14306 non-null  float64\n",
            " 3   PM10    14306 non-null  float64\n",
            " 4   NO      14306 non-null  float64\n",
            " 5   NO2     14306 non-null  float64\n",
            " 6   NOx     14306 non-null  float64\n",
            " 7   NH3     14306 non-null  float64\n",
            " 8   CO      14306 non-null  float64\n",
            " 9   SO2     14306 non-null  float64\n",
            "dtypes: float64(8), object(2)\n",
            "memory usage: 1.1+ MB\n"
          ]
        }
      ],
      "source": [
        "df.info()"
      ]
    },
    {
      "cell_type": "code",
      "execution_count": 14,
      "metadata": {
        "colab": {
          "base_uri": "https://localhost:8080/"
        },
        "id": "FMQeOKJ1Oymg",
        "outputId": "71f974c8-083d-4a31-a575-85a6ecd205b9"
      },
      "outputs": [
        {
          "data": {
            "text/plain": [
              "(14306, 10)"
            ]
          },
          "execution_count": 14,
          "metadata": {},
          "output_type": "execute_result"
        }
      ],
      "source": [
        "df.shape"
      ]
    },
    {
      "cell_type": "code",
      "execution_count": 15,
      "metadata": {
        "colab": {
          "base_uri": "https://localhost:8080/",
          "height": 585
        },
        "id": "0KxRF0HBO5xa",
        "outputId": "8841dcab-d99c-4a7a-b081-ca2843b9b0d2"
      },
      "outputs": [
        {
          "data": {
            "text/plain": [
              "City     0\n",
              "Date     0\n",
              "PM2.5    0\n",
              "PM10     0\n",
              "NO       0\n",
              "NO2      0\n",
              "NOx      0\n",
              "NH3      0\n",
              "CO       0\n",
              "SO2      0\n",
              "dtype: int64"
            ]
          },
          "execution_count": 15,
          "metadata": {},
          "output_type": "execute_result"
        }
      ],
      "source": [
        "df.isnull().sum()"
      ]
    },
    {
      "cell_type": "code",
      "execution_count": 19,
      "metadata": {
        "id": "tCJE6HNJQzU_"
      },
      "outputs": [],
      "source": [
        "\n",
        "df_filled = df.fillna(0)\n",
        "\n",
        "\n",
        "df_new = df_filled.copy()\n",
        "\n",
        "df_new.to_csv('Dataset.csv', encoding = 'utf-8-sig')\n"
      ]
    },
    {
      "cell_type": "code",
      "execution_count": 38,
      "metadata": {
        "colab": {
          "base_uri": "https://localhost:8080/",
          "height": 585
        },
        "id": "dqdR6-KQTEFq",
        "outputId": "22ac9c1c-a9dd-4242-955a-4f176f170e6e"
      },
      "outputs": [
        {
          "data": {
            "text/html": [
              "<div>\n",
              "<style scoped>\n",
              "    .dataframe tbody tr th:only-of-type {\n",
              "        vertical-align: middle;\n",
              "    }\n",
              "\n",
              "    .dataframe tbody tr th {\n",
              "        vertical-align: top;\n",
              "    }\n",
              "\n",
              "    .dataframe thead th {\n",
              "        text-align: right;\n",
              "    }\n",
              "</style>\n",
              "<table border=\"1\" class=\"dataframe\">\n",
              "  <thead>\n",
              "    <tr style=\"text-align: right;\">\n",
              "      <th></th>\n",
              "      <th>0</th>\n",
              "    </tr>\n",
              "  </thead>\n",
              "  <tbody>\n",
              "    <tr>\n",
              "      <th>City</th>\n",
              "      <td>0</td>\n",
              "    </tr>\n",
              "    <tr>\n",
              "      <th>Date</th>\n",
              "      <td>0</td>\n",
              "    </tr>\n",
              "    <tr>\n",
              "      <th>PM2.5</th>\n",
              "      <td>0</td>\n",
              "    </tr>\n",
              "    <tr>\n",
              "      <th>PM10</th>\n",
              "      <td>0</td>\n",
              "    </tr>\n",
              "    <tr>\n",
              "      <th>NO</th>\n",
              "      <td>0</td>\n",
              "    </tr>\n",
              "    <tr>\n",
              "      <th>NO2</th>\n",
              "      <td>0</td>\n",
              "    </tr>\n",
              "    <tr>\n",
              "      <th>NOx</th>\n",
              "      <td>0</td>\n",
              "    </tr>\n",
              "    <tr>\n",
              "      <th>NH3</th>\n",
              "      <td>0</td>\n",
              "    </tr>\n",
              "    <tr>\n",
              "      <th>CO</th>\n",
              "      <td>0</td>\n",
              "    </tr>\n",
              "    <tr>\n",
              "      <th>SO2</th>\n",
              "      <td>0</td>\n",
              "    </tr>\n",
              "    <tr>\n",
              "      <th>O3</th>\n",
              "      <td>0</td>\n",
              "    </tr>\n",
              "    <tr>\n",
              "      <th>Benzene</th>\n",
              "      <td>0</td>\n",
              "    </tr>\n",
              "    <tr>\n",
              "      <th>Toluene</th>\n",
              "      <td>0</td>\n",
              "    </tr>\n",
              "    <tr>\n",
              "      <th>Xylene</th>\n",
              "      <td>0</td>\n",
              "    </tr>\n",
              "    <tr>\n",
              "      <th>AQI</th>\n",
              "      <td>0</td>\n",
              "    </tr>\n",
              "    <tr>\n",
              "      <th>AQI_Bucket</th>\n",
              "      <td>0</td>\n",
              "    </tr>\n",
              "  </tbody>\n",
              "</table>\n",
              "</div><br><label><b>dtype:</b> int64</label>"
            ],
            "text/plain": [
              "City          0\n",
              "Date          0\n",
              "PM2.5         0\n",
              "PM10          0\n",
              "NO            0\n",
              "NO2           0\n",
              "NOx           0\n",
              "NH3           0\n",
              "CO            0\n",
              "SO2           0\n",
              "O3            0\n",
              "Benzene       0\n",
              "Toluene       0\n",
              "Xylene        0\n",
              "AQI           0\n",
              "AQI_Bucket    0\n",
              "dtype: int64"
            ]
          },
          "execution_count": 38,
          "metadata": {},
          "output_type": "execute_result"
        }
      ],
      "source": [
        "df.isnull().sum()"
      ]
    },
    {
      "cell_type": "code",
      "execution_count": 20,
      "metadata": {
        "colab": {
          "base_uri": "https://localhost:8080/"
        },
        "id": "OhZBNe-mRDp6",
        "outputId": "0b9f194e-d9d2-4e8e-afa5-d3acef16d35c"
      },
      "outputs": [
        {
          "name": "stdout",
          "output_type": "stream",
          "text": [
            "Data with more than 6 consecutive zeros has been removed.\n"
          ]
        }
      ],
      "source": [
        "import pandas as pd\n",
        "\n",
        "df = pd.read_csv('Dataset.csv')\n",
        "\n",
        "def has_more_than_six_consecutive_zeros(row):\n",
        "  consecutive_zeros = 0\n",
        "  for value in row:\n",
        "    if value == 0:\n",
        "      consecutive_zeros += 1\n",
        "      if consecutive_zeros > 6:\n",
        "        return True\n",
        "    else:\n",
        "      consecutive_zeros = 0\n",
        "  return False\n",
        "\n",
        "rows_to_remove = df.apply(has_more_than_six_consecutive_zeros, axis=1)\n",
        "\n",
        "df_cleaned = df[~rows_to_remove]\n",
        "\n",
        "\n",
        "df_cleaned.to_csv('dataset.csv', index=False)\n",
        "\n",
        "print(\"Data with more than 6 consecutive zeros has been removed.\")\n"
      ]
    },
    {
      "cell_type": "code",
      "execution_count": null,
      "metadata": {
        "id": "RyV7LnR9Ruhf"
      },
      "outputs": [],
      "source": []
    }
  ],
  "metadata": {
    "colab": {
      "provenance": []
    },
    "kernelspec": {
      "display_name": "Python 3",
      "name": "python3"
    },
    "language_info": {
      "codemirror_mode": {
        "name": "ipython",
        "version": 3
      },
      "file_extension": ".py",
      "mimetype": "text/x-python",
      "name": "python",
      "nbconvert_exporter": "python",
      "pygments_lexer": "ipython3",
      "version": "3.12.6"
    }
  },
  "nbformat": 4,
  "nbformat_minor": 0
}
